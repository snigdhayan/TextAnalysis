{
 "cells": [
  {
   "cell_type": "code",
   "execution_count": 1,
   "metadata": {},
   "outputs": [],
   "source": [
    "# Read data - sample online retail data\n",
    "df = spark.read.csv(\"./online_retail.csv\", header=True, inferSchema=True)"
   ]
  },
  {
   "cell_type": "code",
   "execution_count": 2,
   "metadata": {},
   "outputs": [],
   "source": [
    "# Prepare dataset for clustering - string indexing\n",
    "from pyspark.ml.feature import StringIndexer\n",
    "\n",
    "indexer1 = StringIndexer(inputCol=\"StockCode\", outputCol=\"StockCodeIndex\", handleInvalid=\"skip\")\n",
    "indexed1 = indexer1.fit(df).transform(df)\n",
    "\n",
    "indexer2 = StringIndexer(inputCol=\"Description\", outputCol=\"DescriptionIndex\", handleInvalid=\"skip\")\n",
    "indexed_dataset = indexer2.fit(indexed1).transform(indexed1)\n",
    "\n",
    "dataset = indexed_dataset[\"StockCode\", \"StockCodeIndex\", \"Description\", \"DescriptionIndex\"]"
   ]
  },
  {
   "cell_type": "code",
   "execution_count": 3,
   "metadata": {},
   "outputs": [],
   "source": [
    "# Prepare dataset for clustering - vectorization\n",
    "from pyspark.ml.linalg import Vectors\n",
    "from pyspark.ml.feature import VectorAssembler\n",
    "\n",
    "input_columns = [\"DescriptionIndex\"]\n",
    "vec_assembler = VectorAssembler(inputCols=input_columns, outputCol=\"features\")\n",
    "final_dataset = vec_assembler.transform(dataset)"
   ]
  },
  {
   "cell_type": "code",
   "execution_count": 4,
   "metadata": {},
   "outputs": [],
   "source": [
    "# Prepare dataset for clustering - standard scaling\n",
    "from pyspark.ml.feature import StandardScaler\n",
    "\n",
    "scaler = StandardScaler(inputCol=\"features\", outputCol=\"scaledFeatures\", withStd=True, withMean=True)\n",
    "scalerModel = scaler.fit(final_dataset)\n",
    "\n",
    "final_dataset = scalerModel.transform(final_dataset)"
   ]
  },
  {
   "cell_type": "code",
   "execution_count": 5,
   "metadata": {},
   "outputs": [],
   "source": [
    "# Train a k-means model\n",
    "from pyspark.ml.clustering import KMeans\n",
    "\n",
    "number_of_clusters = 2000\n",
    "kmeans = KMeans(featuresCol=\"scaledFeatures\", k=number_of_clusters)\n",
    "model = kmeans.fit(final_dataset)"
   ]
  },
  {
   "cell_type": "code",
   "execution_count": 6,
   "metadata": {},
   "outputs": [
    {
     "name": "stdout",
     "output_type": "stream",
     "text": [
      "Within Set Sum of Squared Errors = 0.25809840866562794\n"
     ]
    }
   ],
   "source": [
    "# Evaluate clustering by computing 'Within Set Sum of Squared Errors'\n",
    "wssse = model.computeCost(final_dataset)\n",
    "print(\"Within Set Sum of Squared Errors = \" + str(wssse))"
   ]
  },
  {
   "cell_type": "code",
   "execution_count": 7,
   "metadata": {},
   "outputs": [
    {
     "name": "stdout",
     "output_type": "stream",
     "text": [
      "+----------+-----+\n",
      "|prediction|count|\n",
      "+----------+-----+\n",
      "|       207|    8|\n",
      "|      1577|    9|\n",
      "|       332|    9|\n",
      "|      1598|    9|\n",
      "|       928|    9|\n",
      "|      1338|    9|\n",
      "|      1758|   10|\n",
      "|      1889|   10|\n",
      "|      1352|   10|\n",
      "|       660|   11|\n",
      "|      1849|   11|\n",
      "|      1728|   11|\n",
      "|       518|   12|\n",
      "|      1624|   12|\n",
      "|        23|   12|\n",
      "|      1560|   12|\n",
      "|      1921|   12|\n",
      "|      1216|   12|\n",
      "|      1752|   12|\n",
      "|      1460|   12|\n",
      "+----------+-----+\n",
      "only showing top 20 rows\n",
      "\n"
     ]
    }
   ],
   "source": [
    "# Look at the frequency distribution according to clusters\n",
    "clustered_dataset = model.transform(final_dataset)\n",
    "reduced_clustered_dataset = clustered_dataset[\"StockCode\", \"Description\", \"prediction\"]\n",
    "statistics = reduced_clustered_dataset.groupBy(\"prediction\").count()\n",
    "statistics.orderBy(\"count\", ascending=True).show()"
   ]
  },
  {
   "cell_type": "code",
   "execution_count": 10,
   "metadata": {},
   "outputs": [
    {
     "name": "stdout",
     "output_type": "stream",
     "text": [
      "+---------+--------------------+----------+\n",
      "|StockCode|         Description|prediction|\n",
      "+---------+--------------------+----------+\n",
      "|   84612B|SET/4 BLACK  BARO...|      1921|\n",
      "|   84612B|SET/4 BLACK  BARO...|      1921|\n",
      "|    21310|    CAPIZ CHANDELIER|      1921|\n",
      "|    21310|    CAPIZ CHANDELIER|      1921|\n",
      "|   84612B|SET/4 BLACK  BARO...|      1921|\n",
      "|    90049|IVORY GOLD METAL ...|      1921|\n",
      "|    90049|IVORY GOLD METAL ...|      1921|\n",
      "|    90049|IVORY GOLD METAL ...|      1921|\n",
      "|    21310|    CAPIZ CHANDELIER|      1921|\n",
      "|    21310|    CAPIZ CHANDELIER|      1921|\n",
      "|   84612B|SET/4 BLACK  BARO...|      1921|\n",
      "|    90049|IVORY GOLD METAL ...|      1921|\n",
      "+---------+--------------------+----------+\n",
      "\n"
     ]
    }
   ],
   "source": [
    "# Inspect a cluster\n",
    "clusters = [1921]\n",
    "reduced_clustered_dataset.filter(reduced_clustered_dataset.prediction.isin(clusters)).show()"
   ]
  }
 ],
 "metadata": {
  "kernelspec": {
   "display_name": "Python 3",
   "language": "python",
   "name": "python3"
  },
  "language_info": {
   "codemirror_mode": {
    "name": "ipython",
    "version": 3
   },
   "file_extension": ".py",
   "mimetype": "text/x-python",
   "name": "python",
   "nbconvert_exporter": "python",
   "pygments_lexer": "ipython3",
   "version": "3.7.9"
  }
 },
 "nbformat": 4,
 "nbformat_minor": 4
}
