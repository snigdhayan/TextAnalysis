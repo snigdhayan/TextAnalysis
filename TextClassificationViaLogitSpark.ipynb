{
 "cells": [
  {
   "cell_type": "code",
   "execution_count": 1,
   "metadata": {},
   "outputs": [],
   "source": [
    "# Read data - text classification data\n",
    "data = spark.read.csv(\"./TextClassificationDataset.csv\", header=True, inferSchema=True)\n",
    "data = data.withColumnRenamed(\"Label\", \"Classification\")"
   ]
  },
  {
   "cell_type": "code",
   "execution_count": 2,
   "metadata": {},
   "outputs": [],
   "source": [
    "from pyspark.ml.feature import RegexTokenizer, StopWordsRemover, CountVectorizer\n",
    "from pyspark.ml.classification import LogisticRegression\n",
    "# regular expression tokenizer\n",
    "regexTokenizer = RegexTokenizer(inputCol=\"Text\", outputCol=\"words\", pattern=\"\\\\W\")\n",
    "# stop words\n",
    "add_stopwords = [\"http\",\"https\",\"amp\",\"rt\",\"t\",\"c\",\"the\"] \n",
    "stopwordsRemover = StopWordsRemover(inputCol=\"words\", outputCol=\"filtered\").setStopWords(add_stopwords)\n",
    "# bag of words count\n",
    "countVectors = CountVectorizer(inputCol=\"filtered\", outputCol=\"features\", vocabSize=10000, minDF=5)"
   ]
  },
  {
   "cell_type": "code",
   "execution_count": 3,
   "metadata": {},
   "outputs": [
    {
     "name": "stdout",
     "output_type": "stream",
     "text": [
      "+--------------------+--------------+--------------------+--------------------+--------------------+-----+\n",
      "|                Text|Classification|               words|            filtered|            features|label|\n",
      "+--------------------+--------------+--------------------+--------------------+--------------------+-----+\n",
      "|what expression w...|     translate|[what, expression...|[what, expression...|(1840,[0,2,3,4,40...|102.0|\n",
      "|can you tell me h...|     translate|[can, you, tell, ...|[can, you, tell, ...|(1840,[0,2,4,7,9,...|102.0|\n",
      "|what is the equiv...|     translate|[what, is, the, e...|[what, is, equiva...|(1840,[3,8,13,14,...|102.0|\n",
      "|tell me how to sa...|     translate|[tell, me, how, t...|[tell, me, how, t...|(1840,[2,5,7,8,9,...|102.0|\n",
      "|if i were mongoli...|     translate|[if, i, were, mon...|[if, i, were, mon...|(1840,[0,5,9,29,4...|102.0|\n",
      "+--------------------+--------------+--------------------+--------------------+--------------------+-----+\n",
      "only showing top 5 rows\n",
      "\n"
     ]
    }
   ],
   "source": [
    "from pyspark.ml import Pipeline\n",
    "from pyspark.ml.feature import OneHotEncoder, StringIndexer, VectorAssembler\n",
    "label_stringIdx = StringIndexer(inputCol = \"Classification\", outputCol = \"label\")\n",
    "pipeline = Pipeline(stages=[regexTokenizer, stopwordsRemover, countVectors, label_stringIdx])\n",
    "# Fit the pipeline to training documents.\n",
    "pipelineFit = pipeline.fit(data)\n",
    "dataset = pipelineFit.transform(data)\n",
    "dataset.show(5)"
   ]
  },
  {
   "cell_type": "code",
   "execution_count": 4,
   "metadata": {},
   "outputs": [
    {
     "name": "stdout",
     "output_type": "stream",
     "text": [
      "Training Dataset Count: 13733\n",
      "Test Dataset Count: 5767\n"
     ]
    }
   ],
   "source": [
    "# set seed for reproducibility\n",
    "(trainingData, testData) = dataset.randomSplit([0.7, 0.3], seed = 100)\n",
    "print(\"Training Dataset Count: \" + str(trainingData.count()))\n",
    "print(\"Test Dataset Count: \" + str(testData.count()))"
   ]
  },
  {
   "cell_type": "code",
   "execution_count": 5,
   "metadata": {},
   "outputs": [
    {
     "name": "stdout",
     "output_type": "stream",
     "text": [
      "+----------------------------------------+--------------+----------------------------------------+-----+----------+\n",
      "|                                    Text|Classification|                             probability|label|prediction|\n",
      "+----------------------------------------+--------------+----------------------------------------+-----+----------+\n",
      "|whats the status of my south west flight| flight_status|[0.007197387319391339,0.0549051554374...|  1.0|       1.0|\n",
      "|    whats the status of my united flight| flight_status|[0.007088975605568832,0.0817409749374...|  1.0|       1.0|\n",
      "|     update me on my delta flight please| flight_status|[0.006686828385876014,0.0381956623770...|  1.0|       1.0|\n",
      "|              is my delta flight on time| flight_status|[0.006626312730341516,0.0392783278078...|  1.0|       1.0|\n",
      "|whats the most recent status for my v...| flight_status|[0.006487724311273607,0.0514797655034...|  1.0|       1.0|\n",
      "|            what is the eta of my flight| flight_status|[0.006349686992018968,0.0434001080049...|  1.0|       1.0|\n",
      "|please tell me the status of my south...| flight_status|[0.006271223223897444,0.0487910696887...|  1.0|       1.0|\n",
      "|what is the scheduled arrival time fo...| flight_status|[0.006252524735433466,0.0434387902152...|  1.0|       1.0|\n",
      "|let me know the status of my american...| flight_status|[0.006239840031110678,0.0753133830819...|  1.0|       1.0|\n",
      "|what's the status of my virgin airlin...| flight_status|[0.006166184933395582,0.0580415575858...|  1.0|       1.0|\n",
      "|    what's the news with my delta flight| flight_status|[0.006162496918684155,0.0570010388962...|  1.0|       1.0|\n",
      "|what's the status of my american airl...| flight_status|[0.006055270568317495,0.0740255302420...|  1.0|       1.0|\n",
      "|do you mind informing me the status o...| flight_status|[0.006022124250767266,0.0453527880832...|  1.0|       1.0|\n",
      "|i would appreciate it if you could te...| flight_status|[0.005868409270458757,0.0438607213638...|  1.0|       1.0|\n",
      "|when should i expect my flight to com...| flight_status|[0.005837623460491624,0.0236132311954...|  1.0|       1.0|\n",
      "|could you tell me the status of my fr...| flight_status|[0.005619847100828756,0.1429751880056...|  1.0|       1.0|\n",
      "|        what is the word on flight dl123| flight_status|[0.0055387245130044446,0.209821680014...|  1.0|       1.0|\n",
      "|      is there an update on flight dl123| flight_status|[0.005113169118813995,0.2329987794962...|  1.0|       1.0|\n",
      "|what time will i be able to board the...| flight_status|[0.005057472564208522,0.1791991321055...|  1.0|       1.0|\n",
      "|               when's my flight boarding| flight_status|[0.00499874751733631,0.24818281992937...|  1.0|       1.0|\n",
      "|     what time is boarding for my flight| flight_status|[0.00497616456910813,0.25504213772028...|  1.0|       1.0|\n",
      "|  what's the latest info on flight dl123| flight_status|[0.004975957851791519,0.2839650203561...|  1.0|       1.0|\n",
      "|   i gotta know when my flight will land| flight_status|[0.004891469675786448,0.2459336071453...|  1.0|       1.0|\n",
      "|i would love to know when my flight i...| flight_status|[0.004804820688767638,0.2400100420247...|  1.0|       1.0|\n",
      "|      when is my plane scheduled to land| flight_status|[0.004699697075912519,0.2598314983791...|  1.0|       1.0|\n",
      "|at what point will this flight start ...| flight_status|[0.004668781661039469,0.2365756348404...|  1.0|       1.0|\n",
      "|what is the scheduled landing time fo...| flight_status|[0.004639630139476558,0.2882890896997...|  1.0|       1.0|\n",
      "|i need to know the status of flight d...| flight_status|[0.004441307088499897,0.3263330269580...|  1.0|       1.0|\n",
      "|     tell me that status of flight dl123| flight_status|[0.004359458927609998,0.3331393974802...|  1.0|       1.0|\n",
      "|at what time will my flight begin boa...| flight_status|[0.004341127359451415,0.3280369198254...|  1.0|       1.0|\n",
      "|    when is my flight scheduled to board| flight_status|[0.004264124296465236,0.3329434633274...|  1.0|       1.0|\n",
      "|when will we begin to board my schedu...| flight_status|[0.0035484308005201567,0.410844288156...|  1.0|       1.0|\n",
      "+----------------------------------------+--------------+----------------------------------------+-----+----------+\n",
      "\n"
     ]
    }
   ],
   "source": [
    "lr = LogisticRegression(maxIter=40, regParam=0.3, elasticNetParam=0)\n",
    "lrModel = lr.fit(trainingData)\n",
    "predictions = lrModel.transform(testData)\n",
    "predictions.filter(predictions['prediction'] == 1) \\\n",
    "    .select(\"Text\",\"Classification\",\"probability\",\"label\",\"prediction\") \\\n",
    "    .orderBy(\"probability\", ascending=False) \\\n",
    "    .show(n = 100, truncate = 40)"
   ]
  },
  {
   "cell_type": "code",
   "execution_count": 6,
   "metadata": {},
   "outputs": [
    {
     "data": {
      "text/plain": [
       "0.8531565907866342"
      ]
     },
     "execution_count": 6,
     "metadata": {},
     "output_type": "execute_result"
    }
   ],
   "source": [
    "from pyspark.ml.evaluation import MulticlassClassificationEvaluator\n",
    "evaluator = MulticlassClassificationEvaluator(predictionCol=\"prediction\")\n",
    "evaluator.evaluate(predictions)"
   ]
  },
  {
   "cell_type": "code",
   "execution_count": 7,
   "metadata": {},
   "outputs": [
    {
     "name": "stdout",
     "output_type": "stream",
     "text": [
      "+----------------------------------------+--------------+----------------------------------------+-----+----------+\n",
      "|                                    Text|Classification|                             probability|label|prediction|\n",
      "+----------------------------------------+--------------+----------------------------------------+-----+----------+\n",
      "|whats the status of my south west flight| flight_status|[0.007086461446404349,0.0543508884472...|  1.0|       1.0|\n",
      "|    whats the status of my united flight| flight_status|[0.0069771676409775985,0.080934074919...|  1.0|       1.0|\n",
      "|     update me on my delta flight please| flight_status|[0.006715135328207017,0.0337231000025...|  1.0|       1.0|\n",
      "|              is my delta flight on time| flight_status|[0.006525126786736954,0.0388905249869...|  1.0|       1.0|\n",
      "|whats the most recent status for my v...| flight_status|[0.006469844877149016,0.0514574823905...|  1.0|       1.0|\n",
      "|            what is the eta of my flight| flight_status|[0.0063416875628666365,0.036652531356...|  1.0|       1.0|\n",
      "|    what's the news with my delta flight| flight_status|[0.006243108368168387,0.0563632723464...|  1.0|       1.0|\n",
      "|please tell me the status of my south...| flight_status|[0.006177796973668706,0.0464115299320...|  1.0|       1.0|\n",
      "|let me know the status of my american...| flight_status|[0.006135544563348336,0.0744490069860...|  1.0|       1.0|\n",
      "|what's the status of my virgin airlin...| flight_status|[0.00604221084115671,0.05712535766630...|  1.0|       1.0|\n",
      "|what's the status of my american airl...| flight_status|[0.0059542183886557845,0.073169785750...|  1.0|       1.0|\n",
      "|do you mind informing me the status o...| flight_status|[0.005939015309476236,0.0431656299343...|  1.0|       1.0|\n",
      "|i would appreciate it if you could te...| flight_status|[0.005933872592727199,0.0416918702016...|  1.0|       1.0|\n",
      "|what is the scheduled arrival time fo...| flight_status|[0.005921679965466935,0.0650169203987...|  1.0|       1.0|\n",
      "|when should i expect my flight to com...| flight_status|[0.005779044092064857,0.0235094667051...|  1.0|       1.0|\n",
      "|could you tell me the status of my fr...| flight_status|[0.005696742672236077,0.1420488805455...|  1.0|       1.0|\n",
      "|        what is the word on flight dl123| flight_status|[0.005452394401099058,0.2097726627983...|  1.0|       1.0|\n",
      "|      is there an update on flight dl123| flight_status|[0.00524659623220451,0.21237740541119...|  1.0|       1.0|\n",
      "|what time will i be able to board the...| flight_status|[0.004977336962836025,0.1794735463069...|  1.0|       1.0|\n",
      "|               when's my flight boarding| flight_status|[0.004925175393127917,0.2477080775986...|  1.0|       1.0|\n",
      "|     what time is boarding for my flight| flight_status|[0.0049063198200056885,0.254547944529...|  1.0|       1.0|\n",
      "|  what's the latest info on flight dl123| flight_status|[0.004901399017518631,0.2842302506936...|  1.0|       1.0|\n",
      "|   i gotta know when my flight will land| flight_status|[0.00481916572920566,0.24508831830498...|  1.0|       1.0|\n",
      "|i would love to know when my flight i...| flight_status|[0.004734707179842997,0.2389483723206...|  1.0|       1.0|\n",
      "|      when is my plane scheduled to land| flight_status|[0.004634363965388736,0.2586822143749...|  1.0|       1.0|\n",
      "|at what point will this flight start ...| flight_status|[0.004596836559277041,0.2372728958628...|  1.0|       1.0|\n",
      "|what is the scheduled landing time fo...| flight_status|[0.004575748699277923,0.2875907929654...|  1.0|       1.0|\n",
      "|i need to know the status of flight d...| flight_status|[0.004372456602386948,0.3260390286358...|  1.0|       1.0|\n",
      "|at what time will my flight begin boa...| flight_status|[0.004361914831724355,0.3123936364523...|  1.0|       1.0|\n",
      "|     tell me that status of flight dl123| flight_status|[0.0042923577103306165,0.332843076134...|  1.0|       1.0|\n",
      "|    when is my flight scheduled to board| flight_status|[0.004191832887140604,0.3342285386812...|  1.0|       1.0|\n",
      "|when will we begin to board my schedu...| flight_status|[0.0035781221199110164,0.395687776466...|  1.0|       1.0|\n",
      "+----------------------------------------+--------------+----------------------------------------+-----+----------+\n",
      "\n"
     ]
    }
   ],
   "source": [
    "from pyspark.ml.feature import HashingTF, IDF\n",
    "hashingTF = HashingTF(inputCol=\"filtered\", outputCol=\"rawFeatures\", numFeatures=10000)\n",
    "idf = IDF(inputCol=\"rawFeatures\", outputCol=\"features\", minDocFreq=5) #minDocFreq: remove sparse terms\n",
    "pipeline = Pipeline(stages=[regexTokenizer, stopwordsRemover, hashingTF, idf, label_stringIdx])\n",
    "pipelineFit = pipeline.fit(data)\n",
    "dataset = pipelineFit.transform(data)\n",
    "(trainingData, testData) = dataset.randomSplit([0.7, 0.3], seed = 100)\n",
    "lr = LogisticRegression(maxIter=40, regParam=0.3, elasticNetParam=0)\n",
    "lrModel = lr.fit(trainingData)\n",
    "predictions = lrModel.transform(testData)\n",
    "predictions.filter(predictions['prediction'] == 1) \\\n",
    "    .select(\"Text\",\"Classification\",\"probability\",\"label\",\"prediction\") \\\n",
    "    .orderBy(\"probability\", ascending=False) \\\n",
    "    .show(n = 100, truncate = 40)"
   ]
  },
  {
   "cell_type": "code",
   "execution_count": 8,
   "metadata": {},
   "outputs": [
    {
     "data": {
      "text/plain": [
       "0.8439374691058514"
      ]
     },
     "execution_count": 8,
     "metadata": {},
     "output_type": "execute_result"
    }
   ],
   "source": [
    "evaluator = MulticlassClassificationEvaluator(predictionCol=\"prediction\")\n",
    "evaluator.evaluate(predictions)"
   ]
  }
 ],
 "metadata": {
  "kernelspec": {
   "display_name": "Python 3",
   "language": "python",
   "name": "python3"
  },
  "language_info": {
   "codemirror_mode": {
    "name": "ipython",
    "version": 3
   },
   "file_extension": ".py",
   "mimetype": "text/x-python",
   "name": "python",
   "nbconvert_exporter": "python",
   "pygments_lexer": "ipython3",
   "version": "3.7.9"
  }
 },
 "nbformat": 4,
 "nbformat_minor": 4
}
