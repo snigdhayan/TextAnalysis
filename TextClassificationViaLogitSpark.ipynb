{
 "cells": [
  {
   "cell_type": "code",
   "execution_count": 1,
   "metadata": {},
   "outputs": [],
   "source": [
    "# Read data - text classification data\n",
    "data = spark.read.csv(\"./TextClassificationDataset.csv\", header=True, inferSchema=True)\n",
    "data = data.withColumnRenamed(\"Label\", \"Classification\")"
   ]
  },
  {
   "cell_type": "code",
   "execution_count": 2,
   "metadata": {},
   "outputs": [],
   "source": [
    "from pyspark.ml.feature import RegexTokenizer, StopWordsRemover, CountVectorizer\n",
    "from pyspark.ml.classification import LogisticRegression\n",
    "# regular expression tokenizer\n",
    "regexTokenizer = RegexTokenizer(inputCol=\"Text\", outputCol=\"words\", pattern=\"\\\\W\")\n",
    "# stop words\n",
    "add_stopwords = [\",\",\"-\",\".\",\";\",\":\"] \n",
    "stopwordsRemover = StopWordsRemover(inputCol=\"words\", outputCol=\"filtered\").setStopWords(add_stopwords)\n",
    "# bag of words count\n",
    "countVectors = CountVectorizer(inputCol=\"filtered\", outputCol=\"features\", vocabSize=10000, minDF=5)"
   ]
  },
  {
   "cell_type": "code",
   "execution_count": 3,
   "metadata": {},
   "outputs": [
    {
     "name": "stdout",
     "output_type": "stream",
     "text": [
      "+--------------------+--------------+--------------------+--------------------+--------------------+-----+\n",
      "|                Text|Classification|               words|            filtered|            features|label|\n",
      "+--------------------+--------------+--------------------+--------------------+--------------------+-----+\n",
      "|what expression w...|     translate|[what, expression...|[what, expression...|(1842,[0,2,4,5,41...|102.0|\n",
      "|can you tell me h...|     translate|[can, you, tell, ...|[can, you, tell, ...|(1842,[0,2,5,8,10...|102.0|\n",
      "|what is the equiv...|     translate|[what, is, the, e...|[what, is, the, e...|(1842,[3,4,9,14,1...|102.0|\n",
      "|tell me how to sa...|     translate|[tell, me, how, t...|[tell, me, how, t...|(1842,[2,6,8,9,10...|102.0|\n",
      "|if i were mongoli...|     translate|[if, i, were, mon...|[if, i, were, mon...|(1842,[0,6,10,30,...|102.0|\n",
      "+--------------------+--------------+--------------------+--------------------+--------------------+-----+\n",
      "only showing top 5 rows\n",
      "\n"
     ]
    }
   ],
   "source": [
    "from pyspark.ml import Pipeline\n",
    "from pyspark.ml.feature import OneHotEncoder, StringIndexer, VectorAssembler\n",
    "label_stringIdx = StringIndexer(inputCol = \"Classification\", outputCol = \"label\")\n",
    "pipeline = Pipeline(stages=[regexTokenizer, stopwordsRemover, countVectors, label_stringIdx])\n",
    "# Fit the pipeline to training documents.\n",
    "pipelineFit = pipeline.fit(data)\n",
    "dataset = pipelineFit.transform(data)\n",
    "dataset.show(5)"
   ]
  },
  {
   "cell_type": "code",
   "execution_count": 4,
   "metadata": {},
   "outputs": [
    {
     "name": "stdout",
     "output_type": "stream",
     "text": [
      "Training Dataset Count: 13733\n",
      "Test Dataset Count: 5767\n"
     ]
    }
   ],
   "source": [
    "# set seed for reproducibility\n",
    "(trainingData, testData) = dataset.randomSplit([0.7, 0.3], seed = 100)\n",
    "print(\"Training Dataset Count: \" + str(trainingData.count()))\n",
    "print(\"Test Dataset Count: \" + str(testData.count()))"
   ]
  },
  {
   "cell_type": "code",
   "execution_count": 5,
   "metadata": {},
   "outputs": [
    {
     "name": "stdout",
     "output_type": "stream",
     "text": [
      "+----------------------------------------+--------------+----------------------------------------+-----+----------+\n",
      "|                                    Text|Classification|                             probability|label|prediction|\n",
      "+----------------------------------------+--------------+----------------------------------------+-----+----------+\n",
      "|whats the status of my south west flight| flight_status|[0.00717505357902084,0.05515959991180...|  1.0|       1.0|\n",
      "|    whats the status of my united flight| flight_status|[0.007065416424952154,0.0821106614627...|  1.0|       1.0|\n",
      "|     update me on my delta flight please| flight_status|[0.006686975868151713,0.0381456358099...|  1.0|       1.0|\n",
      "|              is my delta flight on time| flight_status|[0.006626949886437967,0.0392403961407...|  1.0|       1.0|\n",
      "|whats the most recent status for my v...| flight_status|[0.0064641092483681125,0.051690768302...|  1.0|       1.0|\n",
      "|            what is the eta of my flight| flight_status|[0.006326603411722053,0.0436140899888...|  1.0|       1.0|\n",
      "|please tell me the status of my south...| flight_status|[0.0062511913608857906,0.049030515918...|  1.0|       1.0|\n",
      "|what is the scheduled arrival time fo...| flight_status|[0.006231424250715703,0.0436659104643...|  1.0|       1.0|\n",
      "|let me know the status of my american...| flight_status|[0.006219482440981529,0.0756840254710...|  1.0|       1.0|\n",
      "|what's the status of my virgin airlin...| flight_status|[0.006145809890786628,0.0583221139498...|  1.0|       1.0|\n",
      "|    what's the news with my delta flight| flight_status|[0.0061419460646660986,0.057313378503...|  1.0|       1.0|\n",
      "|what's the status of my american airl...| flight_status|[0.006034807569642316,0.0743832222734...|  1.0|       1.0|\n",
      "|do you mind informing me the status o...| flight_status|[0.0060049683715324206,0.045594616953...|  1.0|       1.0|\n",
      "|i would appreciate it if you could te...| flight_status|[0.005852757131993331,0.0440937900840...|  1.0|       1.0|\n",
      "|when should i expect my flight to com...| flight_status|[0.005837422582051724,0.0235878078578...|  1.0|       1.0|\n",
      "|could you tell me the status of my fr...| flight_status|[0.005600614455231212,0.1435721608133...|  1.0|       1.0|\n",
      "|        what is the word on flight dl123| flight_status|[0.005516395151558947,0.2105971802944...|  1.0|       1.0|\n",
      "|      is there an update on flight dl123| flight_status|[0.005115571875840363,0.2325959991912...|  1.0|       1.0|\n",
      "|what time will i be able to board the...| flight_status|[0.0050364757040668034,0.180000591041...|  1.0|       1.0|\n",
      "|               when's my flight boarding| flight_status|[0.004999382106454945,0.2479586640815...|  1.0|       1.0|\n",
      "|     what time is boarding for my flight| flight_status|[0.004977928403535522,0.2548111462493...|  1.0|       1.0|\n",
      "|  what's the latest info on flight dl123| flight_status|[0.0049536943910929235,0.284779245102...|  1.0|       1.0|\n",
      "|   i gotta know when my flight will land| flight_status|[0.004893457641171442,0.2455880735163...|  1.0|       1.0|\n",
      "|i would love to know when my flight i...| flight_status|[0.0048071803815504304,0.239653830666...|  1.0|       1.0|\n",
      "|      when is my plane scheduled to land| flight_status|[0.004701881965577366,0.2593810925814...|  1.0|       1.0|\n",
      "|at what point will this flight start ...| flight_status|[0.004670237667434216,0.2364183034003...|  1.0|       1.0|\n",
      "|what is the scheduled landing time fo...| flight_status|[0.00461745437378927,0.28941732993699...|  1.0|       1.0|\n",
      "|i need to know the status of flight d...| flight_status|[0.004422097092109526,0.3273380815673...|  1.0|       1.0|\n",
      "|     tell me that status of flight dl123| flight_status|[0.0043628100519255055,0.332601032284...|  1.0|       1.0|\n",
      "|at what time will my flight begin boa...| flight_status|[0.004342901376271764,0.3277585389265...|  1.0|       1.0|\n",
      "|    when is my flight scheduled to board| flight_status|[0.00426460489528827,0.33277047456635...|  1.0|       1.0|\n",
      "|when will we begin to board my schedu...| flight_status|[0.003549181203787959,0.4106488253605...|  1.0|       1.0|\n",
      "+----------------------------------------+--------------+----------------------------------------+-----+----------+\n",
      "\n"
     ]
    }
   ],
   "source": [
    "lr = LogisticRegression(maxIter=40, regParam=0.3, elasticNetParam=0)\n",
    "lrModel = lr.fit(trainingData)\n",
    "predictions = lrModel.transform(testData)\n",
    "predictions.filter(predictions['prediction'] == 1) \\\n",
    "    .select(\"Text\",\"Classification\",\"probability\",\"label\",\"prediction\") \\\n",
    "    .orderBy(\"probability\", ascending=False) \\\n",
    "    .show(n = 100, truncate = 40)"
   ]
  },
  {
   "cell_type": "code",
   "execution_count": 6,
   "metadata": {},
   "outputs": [
    {
     "data": {
      "text/plain": [
       "0.8534873189767498"
      ]
     },
     "execution_count": 6,
     "metadata": {},
     "output_type": "execute_result"
    }
   ],
   "source": [
    "from pyspark.ml.evaluation import MulticlassClassificationEvaluator\n",
    "evaluator = MulticlassClassificationEvaluator(predictionCol=\"prediction\")\n",
    "evaluator.evaluate(predictions)"
   ]
  },
  {
   "cell_type": "code",
   "execution_count": 7,
   "metadata": {},
   "outputs": [
    {
     "name": "stdout",
     "output_type": "stream",
     "text": [
      "+----------------------------------------+--------------+----------------------------------------+-----+----------+\n",
      "|                                    Text|Classification|                             probability|label|prediction|\n",
      "+----------------------------------------+--------------+----------------------------------------+-----+----------+\n",
      "|whats the status of my south west flight| flight_status|[0.007073738834939095,0.0545944934405...|  1.0|       1.0|\n",
      "|    whats the status of my united flight| flight_status|[0.006963401679874309,0.0812816918545...|  1.0|       1.0|\n",
      "|     update me on my delta flight please| flight_status|[0.006723841409649237,0.0336838989898...|  1.0|       1.0|\n",
      "|              is my delta flight on time| flight_status|[0.006534512775481058,0.0388507520476...|  1.0|       1.0|\n",
      "|whats the most recent status for my v...| flight_status|[0.006454225424673015,0.0516583560124...|  1.0|       1.0|\n",
      "|            what is the eta of my flight| flight_status|[0.006328723942008724,0.0368348901383...|  1.0|       1.0|\n",
      "|    what's the news with my delta flight| flight_status|[0.006230568617346297,0.0566700619534...|  1.0|       1.0|\n",
      "|please tell me the status of my south...| flight_status|[0.0061663836082699024,0.046632830569...|  1.0|       1.0|\n",
      "|let me know the status of my american...| flight_status|[0.006123289275143265,0.0747955295762...|  1.0|       1.0|\n",
      "|what's the status of my virgin airlin...| flight_status|[0.00602959636225984,0.05738264324068...|  1.0|       1.0|\n",
      "|what's the status of my american airl...| flight_status|[0.005941867379367583,0.0735023261149...|  1.0|       1.0|\n",
      "|do you mind informing me the status o...| flight_status|[0.005929991578755953,0.0433897966908...|  1.0|       1.0|\n",
      "|i would appreciate it if you could te...| flight_status|[0.005925217312642028,0.0419097011108...|  1.0|       1.0|\n",
      "|what is the scheduled arrival time fo...| flight_status|[0.005909058660206245,0.0653328322503...|  1.0|       1.0|\n",
      "|when should i expect my flight to com...| flight_status|[0.005786025288696343,0.0234838707605...|  1.0|       1.0|\n",
      "|could you tell me the status of my fr...| flight_status|[0.005685121423991351,0.1425867923632...|  1.0|       1.0|\n",
      "|        what is the word on flight dl123| flight_status|[0.005436528544686137,0.2105362246379...|  1.0|       1.0|\n",
      "|      is there an update on flight dl123| flight_status|[0.00525509880215516,0.21207920660078...|  1.0|       1.0|\n",
      "|what time will i be able to board the...| flight_status|[0.004963383889486395,0.1802600932689...|  1.0|       1.0|\n",
      "|               when's my flight boarding| flight_status|[0.004932189336999048,0.2475209048064...|  1.0|       1.0|\n",
      "|     what time is boarding for my flight| flight_status|[0.004914112892970544,0.2543597842453...|  1.0|       1.0|\n",
      "|  what's the latest info on flight dl123| flight_status|[0.004885603594620489,0.2850726671557...|  1.0|       1.0|\n",
      "|   i gotta know when my flight will land| flight_status|[0.004826975186541172,0.2447751506060...|  1.0|       1.0|\n",
      "|i would love to know when my flight i...| flight_status|[0.004742177683172581,0.2386292200293...|  1.0|       1.0|\n",
      "|      when is my plane scheduled to land| flight_status|[0.004642372554283708,0.2582775521974...|  1.0|       1.0|\n",
      "|at what point will this flight start ...| flight_status|[0.004604238073519919,0.2371129150656...|  1.0|       1.0|\n",
      "|what is the scheduled landing time fo...| flight_status|[0.0045596876953759935,0.288750253597...|  1.0|       1.0|\n",
      "|at what time will my flight begin boa...| flight_status|[0.004368827496836346,0.3121829713680...|  1.0|       1.0|\n",
      "|i need to know the status of flight d...| flight_status|[0.0043591309573306775,0.327075937386...|  1.0|       1.0|\n",
      "|     tell me that status of flight dl123| flight_status|[0.004300982814962739,0.3323532013690...|  1.0|       1.0|\n",
      "|    when is my flight scheduled to board| flight_status|[0.004197766419467226,0.3340534534306...|  1.0|       1.0|\n",
      "|when will we begin to board my schedu...| flight_status|[0.0035833642897498755,0.395508146782...|  1.0|       1.0|\n",
      "+----------------------------------------+--------------+----------------------------------------+-----+----------+\n",
      "\n"
     ]
    }
   ],
   "source": [
    "from pyspark.ml.feature import HashingTF, IDF\n",
    "hashingTF = HashingTF(inputCol=\"filtered\", outputCol=\"rawFeatures\", numFeatures=10000)\n",
    "idf = IDF(inputCol=\"rawFeatures\", outputCol=\"features\", minDocFreq=5) #minDocFreq: remove sparse terms\n",
    "pipeline = Pipeline(stages=[regexTokenizer, stopwordsRemover, hashingTF, idf, label_stringIdx])\n",
    "pipelineFit = pipeline.fit(data)\n",
    "dataset = pipelineFit.transform(data)\n",
    "(trainingData, testData) = dataset.randomSplit([0.7, 0.3], seed = 100)\n",
    "lr = LogisticRegression(maxIter=40, regParam=0.3, elasticNetParam=0)\n",
    "lrModel = lr.fit(trainingData)\n",
    "predictions = lrModel.transform(testData)\n",
    "predictions.filter(predictions['prediction'] == 1) \\\n",
    "    .select(\"Text\",\"Classification\",\"probability\",\"label\",\"prediction\") \\\n",
    "    .orderBy(\"probability\", ascending=False) \\\n",
    "    .show(n = 100, truncate = 40)"
   ]
  },
  {
   "cell_type": "code",
   "execution_count": 8,
   "metadata": {},
   "outputs": [
    {
     "data": {
      "text/plain": [
       "0.8447271389358195"
      ]
     },
     "execution_count": 8,
     "metadata": {},
     "output_type": "execute_result"
    }
   ],
   "source": [
    "evaluator = MulticlassClassificationEvaluator(predictionCol=\"prediction\")\n",
    "evaluator.evaluate(predictions)"
   ]
  }
 ],
 "metadata": {
  "kernelspec": {
   "display_name": "Python 3",
   "language": "python",
   "name": "python3"
  },
  "language_info": {
   "codemirror_mode": {
    "name": "ipython",
    "version": 3
   },
   "file_extension": ".py",
   "mimetype": "text/x-python",
   "name": "python",
   "nbconvert_exporter": "python",
   "pygments_lexer": "ipython3",
   "version": "3.7.9"
  }
 },
 "nbformat": 4,
 "nbformat_minor": 4
}
