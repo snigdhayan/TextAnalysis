{
 "cells": [
  {
   "cell_type": "code",
   "execution_count": 1,
   "id": "d4d5589b",
   "metadata": {},
   "outputs": [
    {
     "name": "stderr",
     "output_type": "stream",
     "text": [
      "Loading required package: NLP\n"
     ]
    }
   ],
   "source": [
    "# load text mining package\n",
    "library(tm)"
   ]
  },
  {
   "cell_type": "code",
   "execution_count": 2,
   "id": "b3fff29d",
   "metadata": {},
   "outputs": [],
   "source": [
    "# Read and preprocess data (the file 'online_retail.csv' must be locally available)\n",
    "data <- read.csv(file = './online_retail.csv', header = TRUE)\n",
    "set.seed(123)\n",
    "myData <- data[c('StockCode','Description')] # extract relevant columns\n",
    "myData <- myData[complete.cases(myData),] # remove incomplete rows"
   ]
  },
  {
   "cell_type": "code",
   "execution_count": 3,
   "id": "22de0a7d",
   "metadata": {},
   "outputs": [],
   "source": [
    "# Reduce the size of dataset for rapid prototyping and create corpus\n",
    "prototype_size <- 50000\n",
    "myData <- myData[sample(1:length(myData[,1]),size = prototype_size),] \n",
    "corpus = tm::Corpus(tm::VectorSource(myData$Description))"
   ]
  },
  {
   "cell_type": "code",
   "execution_count": 4,
   "id": "8d1c56b5",
   "metadata": {},
   "outputs": [
    {
     "name": "stderr",
     "output_type": "stream",
     "text": [
      "Warning message in tm::weightTfIdf(dtm):\n",
      "\"empty document(s): 64 137 149 259 556 705 925 967 988 1143 1442 1608 1850 1924 1936 2055 2237 2281 2493 2612 2881 2953 3002 3039 3093 3186 3303 3642 4198 4222 4696 4725 4802 4807 5464 5544 5654 6049 6175 6431 6507 7011 7099 8293 8458 8531 8968 9285 9348 9676 9767 10764 10817 10879 10913 11028 11092 11153 11247 11385 11822 12064 12196 12580 12764 13256 13336 13391 13494 13612 13864 13935 14049 14167 14295 14556 14637 15145 15192 15399 15428 15474 15798 15852 15903 15965 16194 16445 16591 17386 17441 17474 17543 17591 17726 18009 18201 18783 19051 19351 19457 19686 19742 19883 20194 20228 20267 20280 20520 20752 20831 20872 21200 21383 21652 22228 22254 22521 22825 22842 22982 23148 23219 23915 24018 24654 24745 24752 24826 25067 25318 25808 25852 25969 26026 26035 26073 26096 26100 26202 26989 27066 27133 27407 27559 27591 27606 27722 27884 28012 28568 28636 28762 28795 28902 28936 29297 29430 29502 29524 29536 29694 29732 29929 30027 30117 30432 30960 31243 31297 31472 31507 31816 32166 32167 32187 32209 32566 32618 32793 32831 32867 32873 33263 33290 33379 34084 34123 34388 34444 34557 34677 35110 35207 35298 35412 35432 35705 36007 36245 36301 36555 36907 36949 36976 37193 37255 37399 37685 37695 37862 37885 37908 38131 38138 38162 38226 38445 39052 39142 39175 39261 39443 39636 40068 40217 40468 40544 41159 41330 41651 41655 42088 42149 42304 42328 42350 42886 43175 43832 43914 44480 44594 44665 44972 45037 45083 45312 45588 45612 45657 45885 46120 46219 46445 47153 47209 47418 47749 47947 48033 48253 48356 48487 48854 48933 49211 49219 49410 49659 49691 49778\""
     ]
    }
   ],
   "source": [
    "# Build the feature matrices\n",
    "dtm <- tm::DocumentTermMatrix(corpus)\n",
    "dtm.tfidf <- tm::weightTfIdf(dtm)"
   ]
  },
  {
   "cell_type": "code",
   "execution_count": 5,
   "id": "cc52b70a",
   "metadata": {},
   "outputs": [],
   "source": [
    "# Remove features for optimization\n",
    "dtm.tfidf <- tm::removeSparseTerms(dtm.tfidf, 0.999)"
   ]
  },
  {
   "cell_type": "code",
   "execution_count": 6,
   "id": "85c9abdf",
   "metadata": {},
   "outputs": [],
   "source": [
    "# There is the memory-problem part\n",
    "# - Native matrix isn't \"sparse-compliant\" in the memory\n",
    "# - Sparse implementations aren't necessary compatible with clustering algorithms\n",
    "matrix.tfidf <- as.matrix(dtm.tfidf)"
   ]
  },
  {
   "cell_type": "code",
   "execution_count": 7,
   "id": "8a7eeccb",
   "metadata": {},
   "outputs": [],
   "source": [
    "# Cluster descriptions according to similarity\n",
    "n_clusters = 500\n",
    "clustering.kmeans <- kmeans(matrix.tfidf, n_clusters)\n",
    "Clusters <- clustering.kmeans$cluster"
   ]
  },
  {
   "cell_type": "code",
   "execution_count": 8,
   "id": "6b2fdcfb",
   "metadata": {},
   "outputs": [],
   "source": [
    "# Add cluster column to the dataframe\n",
    "myData_cluster <- cbind(\"Code\" = myData$StockCode, \n",
    "                        \"Cluster\" = Clusters, \n",
    "                        \"Description\" = myData$Description)\n",
    "myDataFrame_cluster <- as.data.frame(myData_cluster)\n",
    "attach(myDataFrame_cluster)\n",
    "clustered_descriptions <- myDataFrame_cluster[order(as.numeric(Cluster)),]\n",
    "detach(myDataFrame_cluster)"
   ]
  },
  {
   "cell_type": "code",
   "execution_count": 9,
   "id": "c749ccff",
   "metadata": {},
   "outputs": [
    {
     "data": {
      "image/png": "[encoded data removed]",
      "text/plain": [
       "Plot with title \"Histogram of Clusters\""
      ]
     },
     "metadata": {},
     "output_type": "display_data"
    }
   ],
   "source": [
    "# Plot histogram of clusters\n",
    "hist(Clusters, col = \"blue\")"
   ]
  },
  {
   "cell_type": "code",
   "execution_count": 10,
   "id": "83ffdb85",
   "metadata": {},
   "outputs": [
    {
     "name": "stdout",
     "output_type": "stream",
     "text": [
      "      Code Cluster Description\n",
      "1253  1008      34        1246\n",
      "8872  1008      34        1246\n",
      "19393 1008      34        1246\n",
      "23429 1008      34        1246\n",
      "27301 1008      34        1246\n",
      "31797 1008      34        1246\n",
      "44711 1008      34        1246\n",
      "47616 1008      34        1246\n",
      "49678 1008      34        1246\n",
      "      Code Cluster Description\n",
      "1456  3025     358         510\n",
      "3517  3025     358         510\n",
      "4283  3025     358         510\n",
      "7886  3025     358         510\n",
      "13230 3070     358        1857\n",
      "25771 3025     358         510\n",
      "26152  370     358        1892\n",
      "31656 3025     358         510\n",
      "40942 3025     358         510\n"
     ]
    }
   ],
   "source": [
    "# Print observations belonging to a few random clusters\n",
    "for (i in sample(c(1:n_clusters),2)) {\n",
    "  print(clustered_descriptions[clustered_descriptions$Cluster==i,])\n",
    "}"
   ]
  }
 ],
 "metadata": {
  "kernelspec": {
   "display_name": "R",
   "language": "R",
   "name": "ir"
  },
  "language_info": {
   "codemirror_mode": "r",
   "file_extension": ".r",
   "mimetype": "text/x-r-source",
   "name": "R",
   "pygments_lexer": "r",
   "version": "3.6.1"
  }
 },
 "nbformat": 4,
 "nbformat_minor": 5
}
