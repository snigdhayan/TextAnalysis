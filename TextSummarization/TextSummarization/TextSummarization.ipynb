{
 "cells": [
  {
   "cell_type": "code",
   "execution_count": 1,
   "id": "bab87643",
   "metadata": {},
   "outputs": [],
   "source": [
    "import json\n",
    "import pandas as pd\n",
    "import numpy as np\n",
    "\n",
    "from pyspark.ml import Pipeline\n",
    "from pyspark.sql import SparkSession\n",
    "import pyspark.sql.functions as F\n",
    "from sparknlp.annotator import *\n",
    "from sparknlp.base import *\n",
    "import sparknlp\n",
    "from sparknlp.pretrained import PretrainedPipeline\n",
    "\n",
    "spark = sparknlp.start()"
   ]
  },
  {
   "cell_type": "code",
   "execution_count": 2,
   "id": "06840ff2",
   "metadata": {},
   "outputs": [
    {
     "name": "stdout",
     "output_type": "stream",
     "text": [
      "t5_small download started this may take some time.\n",
      "Approximate size to download 139 MB\n",
      "[OK!]\n"
     ]
    }
   ],
   "source": [
    "# Define pipeline\n",
    "\n",
    "document_assembler = DocumentAssembler()\\\n",
    ".setInputCol(\"text\")\\\n",
    ".setOutputCol(\"documents\")\n",
    "\n",
    "t5 = T5Transformer() \\\n",
    "  .pretrained(\"t5_small\", 'en') \\\n",
    "  .setTask(\"summarize:\")\\\n",
    "  .setMaxOutputLength(100)\\\n",
    "  .setInputCols([\"documents\"]) \\\n",
    "  .setOutputCol(\"summaries\")\n",
    "\n",
    "summarizer_pp = Pipeline(stages=[\n",
    "    document_assembler, t5\n",
    "])"
   ]
  },
  {
   "cell_type": "code",
   "execution_count": 3,
   "id": "9c6b48dc",
   "metadata": {},
   "outputs": [],
   "source": [
    "# Implement pipeline\n",
    "\n",
    "empty_df = spark.createDataFrame([['']]).toDF('text')\n",
    "pipeline_model = summarizer_pp.fit(empty_df)\n",
    "sum_lmodel = LightPipeline(pipeline_model)"
   ]
  },
  {
   "cell_type": "code",
   "execution_count": 4,
   "id": "5d00636f",
   "metadata": {},
   "outputs": [],
   "source": [
    "# Sample text for summarization\n",
    "\n",
    "example_txt = \"\"\"\n",
    "\n",
    "I am fascinated by technology. I think that technology can solve many societal challenges. We should invest more in sustainable technologies.\n",
    "\"\"\""
   ]
  },
  {
   "cell_type": "code",
   "execution_count": 5,
   "id": "22c8fa7c",
   "metadata": {},
   "outputs": [
    {
     "name": "stdout",
     "output_type": "stream",
     "text": [
      "Summary: I think that technology can solve many societal challenges . we should invest more in sustainable technologies .\n"
     ]
    }
   ],
   "source": [
    "# Check output (text summary)\n",
    "\n",
    "res = sum_lmodel.fullAnnotate(example_txt)[0]\n",
    "\n",
    "print ('Summary:', res['summaries'][0].result)"
   ]
  }
 ],
 "metadata": {
  "kernelspec": {
   "display_name": "Python 3",
   "language": "python",
   "name": "python3"
  },
  "language_info": {
   "codemirror_mode": {
    "name": "ipython",
    "version": 3
   },
   "file_extension": ".py",
   "mimetype": "text/x-python",
   "name": "python",
   "nbconvert_exporter": "python",
   "pygments_lexer": "ipython3",
   "version": "3.8.8"
  }
 },
 "nbformat": 4,
 "nbformat_minor": 5
}
